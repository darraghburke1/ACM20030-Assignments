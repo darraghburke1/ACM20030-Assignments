{
 "cells": [
  {
   "cell_type": "code",
   "execution_count": 5,
   "metadata": {},
   "outputs": [],
   "source": [
    "import numpy as np\n",
    "import matplotlib.pyplot as plt"
   ]
  },
  {
   "cell_type": "code",
   "execution_count": 3,
   "metadata": {},
   "outputs": [],
   "source": [
    "def VectorLength(x,y):\n",
    "    result = np.sqrt(x**2+y**2)\n",
    "    return result"
   ]
  },
  {
   "cell_type": "code",
   "execution_count": 4,
   "metadata": {},
   "outputs": [
    {
     "name": "stdout",
     "output_type": "stream",
     "text": [
      "7.810249675906654 5.0990195135927845\n"
     ]
    }
   ],
   "source": [
    "print(VectorLength(5,6),VectorLength(-1,5))"
   ]
  },
  {
   "cell_type": "code",
   "execution_count": 6,
   "metadata": {},
   "outputs": [
    {
     "name": "stdout",
     "output_type": "stream",
     "text": [
      "Sin(1) = 0.841\n"
     ]
    }
   ],
   "source": [
    "print(\"Sin(1) = %.3f\" % np.sin(1))"
   ]
  },
  {
   "cell_type": "code",
   "execution_count": 18,
   "metadata": {},
   "outputs": [],
   "source": [
    "def IsPrime(n):\n",
    "    if(n == 1):\n",
    "        return \"Not_Prime\"\n",
    "    i = 2\n",
    "    while i < np.sqrt(n):\n",
    "        if(n % i == 0):\n",
    "            return \"Not_Prime\" \n",
    "        i += 1 \n",
    "    return \"Prime\"\n",
    "#Corrected n=1 case"
   ]
  },
  {
   "cell_type": "code",
   "execution_count": 20,
   "metadata": {},
   "outputs": [
    {
     "data": {
      "text/plain": [
       "1"
      ]
     },
     "execution_count": 20,
     "metadata": {},
     "output_type": "execute_result"
    }
   ],
   "source": [
    "IsPrime(4)"
   ]
  },
  {
   "cell_type": "code",
   "execution_count": 6,
   "metadata": {},
   "outputs": [],
   "source": [
    "def IsPrime(n):\n",
    "    if(n == 1):\n",
    "        return \"Not_Prime\"\n",
    "    i = 2\n",
    "    while i < np.sqrt(n):\n",
    "        print(i)\n",
    "        if(n % i == 0):\n",
    "            return \"Not_Prime\"\n",
    "        i += 1 \n",
    "    return \"Prime\"\n",
    "#Added a print statement to checking the value of i"
   ]
  },
  {
   "cell_type": "code",
   "execution_count": 8,
   "metadata": {},
   "outputs": [
    {
     "name": "stdout",
     "output_type": "stream",
     "text": [
      "2\n",
      "3\n",
      "4\n",
      "5\n",
      "6\n",
      "7\n",
      "8\n",
      "9\n",
      "10\n",
      "11\n",
      "12\n",
      "13\n",
      "14\n",
      "15\n",
      "16\n"
     ]
    },
    {
     "data": {
      "text/plain": [
       "'Prime'"
      ]
     },
     "execution_count": 8,
     "metadata": {},
     "output_type": "execute_result"
    }
   ],
   "source": [
    "IsPrime(289)"
   ]
  },
  {
   "cell_type": "code",
   "execution_count": 11,
   "metadata": {},
   "outputs": [],
   "source": [
    "def IsPrime(n):\n",
    "    if(n == 1):\n",
    "        return \"Not_Prime\"\n",
    "    i = 2\n",
    "    while i <= np.sqrt(n):\n",
    "        print(i)\n",
    "        if(n % i == 0):\n",
    "            return \"Not_Prime\"\n",
    "\n",
    "        i += 1 \n",
    "    return \"Prime\"\n",
    "\n",
    "#To check if a number if prime you must check to see if it is divisible\n",
    "#by all the numbers up to and including the square root of n.\n",
    "#Our code not checking the square root of n."
   ]
  },
  {
   "cell_type": "code",
   "execution_count": 10,
   "metadata": {},
   "outputs": [
    {
     "name": "stdout",
     "output_type": "stream",
     "text": [
      "2\n",
      "3\n",
      "4\n",
      "5\n",
      "6\n",
      "7\n",
      "8\n",
      "9\n",
      "10\n",
      "11\n",
      "12\n",
      "13\n",
      "14\n",
      "15\n",
      "16\n"
     ]
    },
    {
     "data": {
      "text/plain": [
       "'Not_Prime'"
      ]
     },
     "execution_count": 10,
     "metadata": {},
     "output_type": "execute_result"
    }
   ],
   "source": [
    "IsPrime(289)"
   ]
  },
  {
   "cell_type": "code",
   "execution_count": null,
   "metadata": {},
   "outputs": [],
   "source": []
  }
 ],
 "metadata": {
  "kernelspec": {
   "display_name": "Python 3",
   "language": "python",
   "name": "python3"
  },
  "language_info": {
   "codemirror_mode": {
    "name": "ipython",
    "version": 3
   },
   "file_extension": ".py",
   "mimetype": "text/x-python",
   "name": "python",
   "nbconvert_exporter": "python",
   "pygments_lexer": "ipython3",
   "version": "3.7.4"
  }
 },
 "nbformat": 4,
 "nbformat_minor": 2
}
