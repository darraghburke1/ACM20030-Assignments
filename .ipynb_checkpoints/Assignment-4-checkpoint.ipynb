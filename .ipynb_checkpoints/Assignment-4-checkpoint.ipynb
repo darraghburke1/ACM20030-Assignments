{
 "cells": [
  {
   "cell_type": "markdown",
   "metadata": {},
   "source": [
    "# Assignment 4\n",
    "\n",
    "This assignment covers material on numerical integration. The assignment is due on by 7pm on Friday the 6th of March.\n",
    "\n",
    "The breakdown of the marks is as follows:\n",
    "\n",
    "Question 0 - [1 mark]  \n",
    "Question 1 - [4 marks]  \n",
    "Questino 2 - [5 marks]  \n",
    "Question 3 - [5 marks]  \n",
    "Question 4 - [5 marks]  \n",
    "Question 5 - [5 marks]  \n",
    "Question 6 - [5 marks]  "
   ]
  },
  {
   "cell_type": "markdown",
   "metadata": {},
   "source": [
    "# Question 0\n",
    "\n",
    "You should have saved this notebook to your ACM20030-Assignments folder. Now:\n",
    "- commit the notebook to your local repository\n",
    "- push the changes to the GitHub"
   ]
  },
  {
   "cell_type": "code",
   "execution_count": 2,
   "metadata": {},
   "outputs": [],
   "source": [
    "import numpy as np\n",
    "import matplotlib.pyplot as plt\n",
    "\n",
    "# The below commands make the font and image size bigger\n",
    "plt.rcParams.update({'font.size': 22})\n",
    "plt.rcParams[\"figure.figsize\"] = (15,10)"
   ]
  },
  {
   "cell_type": "markdown",
   "metadata": {},
   "source": [
    "# Question 1"
   ]
  },
  {
   "cell_type": "markdown",
   "metadata": {},
   "source": [
    "In this question you will be asked to evaluate definite integrals in the form:\n",
    "\n",
    "$$ \\int_a^b f(x)\\, dx$$ \n",
    "\n",
    "using Simpson's rule. You can copy code from the [examples repository](https://github.com/nielsw2/ACM20030-Examples) if you wish, but if you do remove all the plotting functionality. Do not use SciPy or any other library to evaluate the integrals, unless explicitly asked to do so."
   ]
  },
  {
   "cell_type": "code",
   "execution_count": 116,
   "metadata": {},
   "outputs": [
    {
     "name": "stdout",
     "output_type": "stream",
     "text": [
      "21.839729612495127\n"
     ]
    }
   ],
   "source": [
    "def SimpsonsIntegrate(f, a, b, N):\n",
    "    dx = (b-a)/N\n",
    "    xi = a\n",
    "    area = 0\n",
    "    i = 0\n",
    "    while i < N:\n",
    "        area += dx/6*(f(xi) + 4*f((2*xi+dx)/2) + f(xi+dx))\n",
    "        \n",
    "        xi += dx\n",
    "        i += 1\n",
    "    return area\n",
    "\n",
    "def f(x):\n",
    "    return np.sin(x) + 2\n",
    "\n",
    "print(SimpsonsIntegrate(f, 0, 10, 10))"
   ]
  },
  {
   "cell_type": "markdown",
   "metadata": {},
   "source": [
    "## Q1 a\n",
    "\n",
    "Evaluate $$ \\frac{1}{\\sqrt{\\pi}}\\int^{10}_{-10} e^{-x^2}\\, dx$$\n",
    "\n",
    "Use enough strips so that the result is accurate to a relative error of of at least 1e-6. Hint: to within machine precision the above integral evaluates to  1 ."
   ]
  },
  {
   "cell_type": "code",
   "execution_count": 31,
   "metadata": {},
   "outputs": [
    {
     "name": "stdout",
     "output_type": "stream",
     "text": [
      "Error = 0.0\n",
      "Area = 1.0\n"
     ]
    }
   ],
   "source": [
    "def f1(x):\n",
    "    return np.exp(-x**2)/np.sqrt(np.pi)\n",
    "\n",
    "print('Error =',np.abs(SimpsonsIntegrate(f1, -10, 10, 100) - 1))\n",
    "\n",
    "print('Area =',SimpsonsIntegrate(f1, -10, 10, 100))"
   ]
  },
  {
   "cell_type": "markdown",
   "metadata": {},
   "source": [
    "## Q1 b\n",
    "\n",
    "Evaluate\n",
    "\n",
    "$$\\int^{50}_{-50} \\frac{1}{\\cosh x}\\,dx $$\n",
    "\n",
    "Use enough strips so that the result is accurate to a relative error of at least `1e-6`. Hint: to within machine precision the above integral evaluates to $\\pi$."
   ]
  },
  {
   "cell_type": "code",
   "execution_count": 35,
   "metadata": {},
   "outputs": [
    {
     "name": "stdout",
     "output_type": "stream",
     "text": [
      "Error = 4.440892098500626e-16\n",
      "Area = 3.1415926535897927\n"
     ]
    }
   ],
   "source": [
    "def f2(x):\n",
    "    return 1/(np.cosh(x))\n",
    "\n",
    "print('Error =',np.abs(SimpsonsIntegrate(f2, -50, 50, 1000) - np.pi))\n",
    "\n",
    "print('Area =',SimpsonsIntegrate(f2, -50, 50, 1000))"
   ]
  },
  {
   "cell_type": "markdown",
   "metadata": {},
   "source": [
    "## Q1 c\n",
    "\n",
    "Use SciPy's `integrate.quad()` function to evaluate the integrals in Q1a and Q1b"
   ]
  },
  {
   "cell_type": "code",
   "execution_count": 38,
   "metadata": {},
   "outputs": [],
   "source": [
    "from scipy import integrate as inte"
   ]
  },
  {
   "cell_type": "code",
   "execution_count": 40,
   "metadata": {},
   "outputs": [
    {
     "name": "stdout",
     "output_type": "stream",
     "text": [
      "(0.9999999999999999, 2.085612812503633e-13)\n",
      "(3.141592653589793, 5.5381858831212136e-11)\n"
     ]
    }
   ],
   "source": [
    "result1 = inte.quad(f1, -10, 10)\n",
    "result2 = inte.quad(f2, -50, 50)\n",
    "\n",
    "print(result1)\n",
    "print(result2)"
   ]
  },
  {
   "cell_type": "markdown",
   "metadata": {},
   "source": [
    "# Question 2 - improper integrals\n",
    "\n",
    "In the lectures we looked at numerically evaluating indefinite integrals of the form\n",
    "\n",
    "$$ \\int^b_a f(x)\\, dx$$ where $a,b$ are finite. What about improper integrals where either $a$, $b$ or both are infinite? The methods we know so far cannot immediately be applied to these cases.\n",
    "\n",
    "One method is to transform the integral using the result\n",
    "\n",
    "$$ \\int_a^b f(x)\\, dx = \\int^{1/a}_{1/b} t^{-2} f(t^{-1})\\, dt$$\n",
    "\n",
    "which holds so long as $a,b>0$."
   ]
  },
  {
   "cell_type": "markdown",
   "metadata": {},
   "source": [
    "## Q2 a\n",
    "\n",
    "Using the above result numerically evaluate the following integral\n",
    "\n",
    "$$ \\int^\\infty_1 \\frac{\\log(x)}{x^3}\\,dx $$\n",
    "\n",
    "using Simpson's rule. Use 100 strips to evaluate the integral.\n",
    "\n",
    "Hint: you will have to use an `if` statement inside your transformed function for to deal with $t=0$. For this case it is useful to note that $\\lim_{t\\rightarrow0} t \\log(1/t) = 0$."
   ]
  },
  {
   "cell_type": "code",
   "execution_count": 110,
   "metadata": {},
   "outputs": [
    {
     "data": {
      "text/plain": [
       "0.24999807459463722"
      ]
     },
     "execution_count": 110,
     "metadata": {},
     "output_type": "execute_result"
    }
   ],
   "source": [
    "def f3(x):\n",
    "    return np.log(x)/x**3\n",
    "\n",
    "def SimpsonsIntegrate2(f, a, b, N):\n",
    "    def t(x):\n",
    "        if (x == 0):\n",
    "            result = 0\n",
    "        if (x != 0):\n",
    "            result = (x**-2)*f(x**-1)\n",
    "        return result\n",
    "    dx = (1/a-1/b)/N\n",
    "    xi = 1/b\n",
    "    area = 0\n",
    "    i = 0\n",
    "    while i < N:\n",
    "        area += dx/6*(t(xi) + 4*t((2*xi+dx)/2) + t(xi+dx))\n",
    "        xi += dx\n",
    "        i += 1\n",
    "    return area\n",
    "\n",
    "SimpsonsIntegrate2(f3, 1, np.inf, 100)"
   ]
  },
  {
   "cell_type": "markdown",
   "metadata": {},
   "source": [
    "## Q2 b\n",
    "\n",
    "Numerically evaluate\n",
    "\n",
    "$$ \\int^\\infty_0 \\frac{1}{(x+1)^3}\\,dx$$\n",
    "\n",
    "using Simpson's rule.\n",
    "\n",
    "Hint: break the integral into two integrals, one with a finite domain and one with an infinite domain. In each domain use 100 strips to evalute the integral. Check your answer against the analytic result."
   ]
  },
  {
   "cell_type": "code",
   "execution_count": 118,
   "metadata": {},
   "outputs": [
    {
     "name": "stdout",
     "output_type": "stream",
     "text": [
      "0.5000000000807215\n"
     ]
    }
   ],
   "source": [
    "def f4(x):\n",
    "    return 1/(x+1)**3\n",
    "\n",
    "finite = SimpsonsIntegrate(f4, 0, 1, 100)\n",
    "infinite = SimpsonsIntegrate2(f4, 1, np.inf, 100)\n",
    "print(finite + infinite)"
   ]
  },
  {
   "cell_type": "markdown",
   "metadata": {},
   "source": [
    "# Question 3 - Boole's rule\n",
    "\n",
    "Fitting the integrand to a quintic polynomial results in Boole's rule for integration. In the lecture the formula for Boole's rule was given as\n",
    "\n",
    "$$ \\int^b_a f(x)\\,dx \\simeq \\frac{2 \\Delta x}{45}\\left(7f_0 + 32 f_1 + 12 f_2 +32f_3 + 7 f_4\\right) $$\n",
    "\n",
    "where $\\Delta x = (b-a)/4$, and $f_i = f(a + i\\Delta x)$."
   ]
  },
  {
   "cell_type": "markdown",
   "metadata": {},
   "source": [
    "## Q3 a\n",
    "\n",
    "Write a function that numerically integrates another function using Boole's rule. Use the following function definition:"
   ]
  },
  {
   "cell_type": "code",
   "execution_count": 175,
   "metadata": {},
   "outputs": [],
   "source": [
    "def BooleIntegration(f, a, b, N):\n",
    "    dx = (b-a)/(4*N)\n",
    "    i = 0\n",
    "    area = 0\n",
    "    while (i < 4*N):\n",
    "        xi = a + i*dx\n",
    "        area += 2/45*(7*f(xi)+32*f(xi+dx)+12*f(xi+2*dx)+32*f(xi+3*dx)+7*f(xi+4*dx))\n",
    "        i += 1\n",
    "    return dx*area/4"
   ]
  },
  {
   "cell_type": "markdown",
   "metadata": {},
   "source": [
    "Test your function by evaluating the following using 100 strips.\n",
    "\n",
    "$$ \\int_0^\\pi \\sin(x)\\,dx $$"
   ]
  },
  {
   "cell_type": "code",
   "execution_count": 174,
   "metadata": {},
   "outputs": [
    {
     "name": "stdout",
     "output_type": "stream",
     "text": [
      "1.999784110172226\n"
     ]
    }
   ],
   "source": [
    "def f5(x):\n",
    "    return np.sin(x)\n",
    "\n",
    "print(BooleIntegration(f5, 0, np.pi, 100))"
   ]
  },
  {
   "cell_type": "markdown",
   "metadata": {},
   "source": [
    "## Q3 b\n",
    "\n",
    "For Boole's rule show that the global error scales as $\\Delta x^6$. The below plot shows a $\\Delta x^6$ reference line."
   ]
  },
  {
   "cell_type": "code",
   "execution_count": 190,
   "metadata": {},
   "outputs": [
    {
     "data": {
      "image/png": "[encoded data removed]",
      "text/plain": [
       "<Figure size 1080x720 with 1 Axes>"
      ]
     },
     "metadata": {
      "needs_background": "light"
     },
     "output_type": "display_data"
    },
    {
     "name": "stdout",
     "output_type": "stream",
     "text": [
      "0.002181758330844256\n"
     ]
    }
   ],
   "source": [
    "x = np.linspace(10,48,100)\n",
    "y = x**-6\n",
    "\n",
    "y1 = BooleIntegration(f5, 0, np.pi, 10) - 2\n",
    "y2 = BooleIntegration(f5, 0, np.pi, 16) - 2\n",
    "y3 = BooleIntegration(f5, 0, np.pi, 22) - 2\n",
    "y4 = BooleIntegration(f5, 0, np.pi, 28) - 2\n",
    "y5 = BooleIntegration(f5, 0, np.pi, 36) - 2\n",
    "y6 = BooleIntegration(f5, 0, np.pi, 48) - 2\n",
    "\n",
    "ni = np.array([10, 16, 22, 28, 36, 48])\n",
    "yi = np.abs(np.array([y1, y2, y3, y4, y5, y6]))\n",
    "plt.plot(ni,yi)\n",
    "\n",
    "plt.yscale('log')\n",
    "plt.xscale('log')\n",
    "plt.grid(True)\n",
    "plt.plot(x,y);\n",
    "plt.show()\n",
    "print((y2-y1)/(16-10))"
   ]
  },
  {
   "cell_type": "markdown",
   "metadata": {},
   "source": [
    "# Question 4 - integrand with a singularity\n",
    "\n",
    "The techniques developed in the lecture require the integrand to be continuous and bounded. What happens if there is a singularity in the integrand? In general these can be difficult to deal with (though some more generic methods exist - see, e.g., [Tanh-sinh quadrature](https://en.wikipedia.org/wiki/Tanh-sinh_quadrature)).\n",
    "\n",
    "In this example we will look at an explicit example that can be dealt with by a change of variables. Consider the identity:\n",
    "\n",
    "$$ \\int_0^1 \\frac{f(x)}{x^\\alpha}\\, dx = \\frac{1}{\\alpha} \\int_0^1 f(t^{1/\\alpha}) t^{(1-2\\alpha)/\\alpha}\\,dt$$\n",
    "\n",
    "which is achived by changing variables using $t = x^\\alpha$. This identity holds when $0 < \\alpha < 1$ and $f(x)$ is continous on $[0,1]$."
   ]
  },
  {
   "cell_type": "markdown",
   "metadata": {},
   "source": [
    "Let\n",
    "$$I = \\int^1_0 \\frac{\\cos(10x)}{x^{1/2}}\\,dx $$\n",
    "\n",
    "Plot the integrand in the range $[0,1]$, use a grid and label your axes."
   ]
  },
  {
   "cell_type": "code",
   "execution_count": 92,
   "metadata": {},
   "outputs": [],
   "source": [
    "def f6(x):\n",
    "    \n",
    "\n",
    "x = np.linspace(0,1,30)\n",
    "y = "
   ]
  },
  {
   "cell_type": "markdown",
   "metadata": {},
   "source": [
    "Define and plot the transformed integrand. For the plot use a grid and label your axes."
   ]
  },
  {
   "cell_type": "code",
   "execution_count": null,
   "metadata": {},
   "outputs": [],
   "source": []
  },
  {
   "cell_type": "markdown",
   "metadata": {},
   "source": [
    "Numerically evaluate $I$ using Simpson's rule. Use 100 strips to do this."
   ]
  },
  {
   "cell_type": "code",
   "execution_count": null,
   "metadata": {},
   "outputs": [],
   "source": []
  },
  {
   "cell_type": "markdown",
   "metadata": {},
   "source": [
    "# Question 5\n",
    "\n",
    "Write your own function to integrate the following data using Simpson's rule."
   ]
  },
  {
   "cell_type": "code",
   "execution_count": 268,
   "metadata": {},
   "outputs": [],
   "source": [
    "x = np.linspace(0, np.pi, 101)\n",
    "dx = x[1]-x[0]\n",
    "y = np.sin(x)"
   ]
  },
  {
   "cell_type": "code",
   "execution_count": 7,
   "metadata": {},
   "outputs": [],
   "source": [
    "def SimpsonsIntegrateData(data, dx):\n",
    "    area = 0\n",
    "    # Write your code here\n",
    "    \n",
    "    \n",
    "    return area"
   ]
  },
  {
   "cell_type": "markdown",
   "metadata": {
    "scrolled": true
   },
   "source": [
    "Integrate the data using your function"
   ]
  },
  {
   "cell_type": "code",
   "execution_count": null,
   "metadata": {},
   "outputs": [],
   "source": []
  },
  {
   "cell_type": "markdown",
   "metadata": {},
   "source": [
    "Recall that Simpson's method needs an odd number of data points to work. If you use an even number you will get a bad result. If you check the convergence rate in this case you will see it is not what is expected. Checking the convergence rate is an important test of an integration code."
   ]
  },
  {
   "cell_type": "markdown",
   "metadata": {},
   "source": [
    "# Question 6\n",
    "\n",
    "Evaluate the following integral using both Simpsons rule and an RK4 ODE method\n",
    "\n",
    "$$ \\int_0^5 \\sinh(x) (x-5)\\, dx $$\n",
    "\n",
    "Compare the results of the two methods and take sufficient strips/small enough step sizes to ensure the results agree to a relative accuracy of 1e-6."
   ]
  },
  {
   "cell_type": "code",
   "execution_count": null,
   "metadata": {},
   "outputs": [],
   "source": []
  }
 ],
 "metadata": {
  "kernelspec": {
   "display_name": "Python 3",
   "language": "python",
   "name": "python3"
  },
  "language_info": {
   "codemirror_mode": {
    "name": "ipython",
    "version": 3
   },
   "file_extension": ".py",
   "mimetype": "text/x-python",
   "name": "python",
   "nbconvert_exporter": "python",
   "pygments_lexer": "ipython3",
   "version": "3.7.6"
  }
 },
 "nbformat": 4,
 "nbformat_minor": 2
}
