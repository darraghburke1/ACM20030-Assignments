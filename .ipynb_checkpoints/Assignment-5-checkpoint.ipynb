{
 "cells": [
  {
   "cell_type": "markdown",
   "metadata": {},
   "source": [
    "#  Assignment 5\n",
    "\n",
    "This assignment covers material on matrices, norms, condition numbers and eigensystems. The assignment is due by 5pm on Friday the 17th of April.\n",
    "\n",
    "The breakdown of the marks is as follows:\n",
    "\n",
    "Question 0 - [1 mark]  \n",
    "Question 1 - [7 marks]  \n",
    "Questino 2 - [6 marks]  \n",
    "Question 3 - [7 marks]  \n",
    "Question 4 - [9 marks]  "
   ]
  },
  {
   "cell_type": "markdown",
   "metadata": {},
   "source": [
    "# Question 0\n",
    "\n",
    "You should have saved this notebook to your ACM20030-Assignments folder. Now:\n",
    "- commit the notebook to your local repository\n",
    "- push the changes to the GitHub"
   ]
  },
  {
   "cell_type": "code",
   "execution_count": 1,
   "metadata": {},
   "outputs": [],
   "source": [
    "import numpy as np\n",
    "from numpy import linalg as la\n",
    "np.set_printoptions(linewidth=200)  # This stops line wrapping of larger matrices"
   ]
  },
  {
   "cell_type": "markdown",
   "metadata": {},
   "source": [
    "# Question 1 - practice manipulating arrays\n",
    "\n",
    "This questions asks you write a few functions for manipulating arrays of data"
   ]
  },
  {
   "cell_type": "markdown",
   "metadata": {},
   "source": [
    "## Q1 a\n",
    "\n",
    "Write a function that checks if a given $n\\times n$ matrix is symmetric. Use only loops and `.shape` function from numpy (do not use any other special numpy functions)."
   ]
  },
  {
   "cell_type": "code",
   "execution_count": 175,
   "metadata": {},
   "outputs": [],
   "source": [
    "def SymCheck(matrix):\n",
    "    a = matrix\n",
    "    if(a.shape[0] != a.shape[1]):\n",
    "        return \"Input matrix is not a square matrix\"\n",
    "    i = 0\n",
    "    while(i < a.shape[0]):\n",
    "        j = 0\n",
    "        while(j < a.shape[0]):\n",
    "            if(a[i,j] != a[j,i]):\n",
    "                return \"Non-Symetric Matrix\"\n",
    "            j += 1\n",
    "        i += 1\n",
    "    return \"Symmetric Matrix\""
   ]
  },
  {
   "cell_type": "markdown",
   "metadata": {},
   "source": [
    "Test your function on the two matrices below"
   ]
  },
  {
   "cell_type": "code",
   "execution_count": 176,
   "metadata": {},
   "outputs": [],
   "source": [
    "A1 = np.random.rand(5,5)\n",
    "SymMatrix = (A + A.T)/2"
   ]
  },
  {
   "cell_type": "code",
   "execution_count": 177,
   "metadata": {},
   "outputs": [
    {
     "data": {
      "text/plain": [
       "'Non-Symetric Matrix'"
      ]
     },
     "execution_count": 177,
     "metadata": {},
     "output_type": "execute_result"
    }
   ],
   "source": [
    "SymCheck(A)"
   ]
  },
  {
   "cell_type": "code",
   "execution_count": 178,
   "metadata": {},
   "outputs": [
    {
     "data": {
      "text/plain": [
       "'Symmetric Matrix'"
      ]
     },
     "execution_count": 178,
     "metadata": {},
     "output_type": "execute_result"
    }
   ],
   "source": [
    "SymCheck(SymMatrix)"
   ]
  },
  {
   "cell_type": "markdown",
   "metadata": {},
   "source": [
    "## Q1 b\n",
    "\n",
    "Write a function to transpose a general $n\\times n$ matrix. Do this by writing loops and not using any special functions like `np.transpose()`, `A.T`, or any functions from any other library."
   ]
  },
  {
   "cell_type": "code",
   "execution_count": 205,
   "metadata": {},
   "outputs": [],
   "source": [
    "def Transpose(matrix):\n",
    "    a = matrix\n",
    "    if(a.shape[0] != a.shape[1]):\n",
    "        return \"Input matrix is not a square matrix\"    \n",
    "    t = np.zeros(a.shape)\n",
    "    i = 0 \n",
    "    while(i < a.shape[0]):\n",
    "        j = 0\n",
    "        while(j < a.shape[0]):\n",
    "            t[i,j] = a[j,i]\n",
    "            j += 1\n",
    "        i += 1\n",
    "    return t"
   ]
  },
  {
   "cell_type": "markdown",
   "metadata": {},
   "source": [
    "Check your code by transposing the below random matrix and checking that $A^T \\neq A$ and $(A^T)^T - A = 0$"
   ]
  },
  {
   "cell_type": "code",
   "execution_count": 206,
   "metadata": {
    "scrolled": false
   },
   "outputs": [
    {
     "data": {
      "text/plain": [
       "array([[ 0.        ,  0.04309609, -0.10990824,  0.39077069,  0.51487483,  0.02018198],\n",
       "       [-0.04309609,  0.        ,  0.22905011,  0.00071334, -0.38523   ,  0.13772033],\n",
       "       [ 0.10990824, -0.22905011,  0.        , -0.22355884,  0.07990804, -0.48190806],\n",
       "       [-0.39077069, -0.00071334,  0.22355884,  0.        , -0.29255427,  0.3350458 ],\n",
       "       [-0.51487483,  0.38523   , -0.07990804,  0.29255427,  0.        , -0.30902936],\n",
       "       [-0.02018198, -0.13772033,  0.48190806, -0.3350458 ,  0.30902936,  0.        ]])"
      ]
     },
     "execution_count": 206,
     "metadata": {},
     "output_type": "execute_result"
    }
   ],
   "source": [
    "A2 = np.random.rand(6,6)\n",
    "\n",
    "Transpose(A2) - A2 \n",
    "# Not equal to the 0 matrix so therefor AT and A are not equal"
   ]
  },
  {
   "cell_type": "code",
   "execution_count": 204,
   "metadata": {},
   "outputs": [
    {
     "data": {
      "text/plain": [
       "array([[0., 0., 0., 0., 0., 0.],\n",
       "       [0., 0., 0., 0., 0., 0.],\n",
       "       [0., 0., 0., 0., 0., 0.],\n",
       "       [0., 0., 0., 0., 0., 0.],\n",
       "       [0., 0., 0., 0., 0., 0.],\n",
       "       [0., 0., 0., 0., 0., 0.]])"
      ]
     },
     "execution_count": 204,
     "metadata": {},
     "output_type": "execute_result"
    }
   ],
   "source": [
    "Transpose(Transpose(A2)) - A2\n",
    "# Is equal to the 0 matrix so therefor our code effectively transposes the matrix"
   ]
  },
  {
   "cell_type": "markdown",
   "metadata": {},
   "source": [
    "## Q1c\n",
    "\n",
    "Write a function that finds the maximum entry in a matrix (where the matrix does not need to be square). Do this by writing loops and not using any special functions like `np.max` or any functions from any other library."
   ]
  },
  {
   "cell_type": "code",
   "execution_count": 368,
   "metadata": {},
   "outputs": [],
   "source": [
    "def Max(matrix):\n",
    "    a = matrix \n",
    "    m = 0\n",
    "    i = 0\n",
    "    if(a.shape == (len(a),)):\n",
    "        while(i < a.shape[0]):\n",
    "                if(a[i] > m):\n",
    "                    m = a[i]\n",
    "                i += 1\n",
    "        return m\n",
    "    while(i < a.shape[0]):\n",
    "        j = 0\n",
    "        while(j < a.shape[0]):\n",
    "            if(a[i,j] > m):\n",
    "                m = a[i,j]\n",
    "            j += 1\n",
    "        i += 1\n",
    "    return m"
   ]
  },
  {
   "cell_type": "markdown",
   "metadata": {},
   "source": [
    "Check your result by comparing to `np.max(A)` for the below random matrix"
   ]
  },
  {
   "cell_type": "code",
   "execution_count": 214,
   "metadata": {},
   "outputs": [
    {
     "name": "stdout",
     "output_type": "stream",
     "text": [
      "[[0.14520227 0.32252394 0.59421047 0.94711632 0.04440615]\n",
      " [0.92153465 0.69039914 0.05415032 0.9604868  0.12570734]\n",
      " [0.79038208 0.3933665  0.4095649  0.14424956 0.27710143]\n",
      " [0.93571399 0.62511933 0.91614178 0.54900396 0.60643804]]\n"
     ]
    }
   ],
   "source": [
    "A3 = np.random.rand(4,5)\n",
    "\n",
    "print(A3)"
   ]
  },
  {
   "cell_type": "code",
   "execution_count": 215,
   "metadata": {},
   "outputs": [
    {
     "data": {
      "text/plain": [
       "0.9604868023871663"
      ]
     },
     "execution_count": 215,
     "metadata": {},
     "output_type": "execute_result"
    }
   ],
   "source": [
    "Max(A3)\n",
    "# We can clearly see that this value is the largest element in our matrix"
   ]
  },
  {
   "cell_type": "markdown",
   "metadata": {},
   "source": [
    "# Question 2:  matrix norms\n",
    "\n",
    "In the lectures we focused on the $L^2$-norm. We also briefly mentioned the $L^1$ and $L^\\infty$ norm. Let's look at calculating those as well for a general $m\\times n$ matrix."
   ]
  },
  {
   "cell_type": "markdown",
   "metadata": {},
   "source": [
    "# Q2a\n",
    "\n",
    "The $L^1$ norm is given by\n",
    "\n",
    "$$ \\lVert A \\rVert_1 = \\max_j \\sum^m_{i=1} |a_{ij}| $$\n",
    "\n",
    "i.e., it is the max of the sums of the absolute values of each column. Write a function that computes the $L^1$-norm using only loops. The function should use no special numpy functions except `np.abs()`."
   ]
  },
  {
   "cell_type": "code",
   "execution_count": 384,
   "metadata": {},
   "outputs": [],
   "source": [
    "def Norm(matrix):\n",
    "    a = matrix\n",
    "    j = 0\n",
    "    i = 0\n",
    "    e = np.zeros(a.shape[1])\n",
    "    while(j < a.shape[1]):\n",
    "        i = 0\n",
    "        mi = 0\n",
    "        while(i < a.shape[0]):\n",
    "            mi += np.abs(a[i,j])\n",
    "            i += 1\n",
    "        e[j] = mi\n",
    "        j += 1\n",
    "    return Max(e)"
   ]
  },
  {
   "cell_type": "markdown",
   "metadata": {},
   "source": [
    "Check your result against NumPy's `la.norm(A,1)` function for the following random matrix"
   ]
  },
  {
   "cell_type": "code",
   "execution_count": 385,
   "metadata": {},
   "outputs": [],
   "source": [
    "A4 = np.random.rand(3,4)"
   ]
  },
  {
   "cell_type": "code",
   "execution_count": 386,
   "metadata": {},
   "outputs": [
    {
     "data": {
      "text/plain": [
       "2.5723887260342684"
      ]
     },
     "execution_count": 386,
     "metadata": {},
     "output_type": "execute_result"
    }
   ],
   "source": [
    "la.norm(A4,1)"
   ]
  },
  {
   "cell_type": "code",
   "execution_count": 387,
   "metadata": {},
   "outputs": [
    {
     "data": {
      "text/plain": [
       "2.5723887260342684"
      ]
     },
     "execution_count": 387,
     "metadata": {},
     "output_type": "execute_result"
    }
   ],
   "source": [
    "Norm(A4)"
   ]
  },
  {
   "cell_type": "markdown",
   "metadata": {},
   "source": [
    "## Q2b\n",
    "\n",
    "The $L^\\infty$ norm is given by \n",
    "\n",
    "$$\\lVert A \\rVert_\\infty = \\max_i \\sum_{j=1}^n |a_{ij}|$$\n",
    "\n",
    "i.e., it is the max of the sums of the absolute values of each row. Write a function that computes the $L^\\infty$-norm using only loops and no special numpy functions."
   ]
  },
  {
   "cell_type": "code",
   "execution_count": 388,
   "metadata": {},
   "outputs": [],
   "source": [
    "def NormInf(matrix):\n",
    "    a = matrix\n",
    "    j = 0\n",
    "    i = 0\n",
    "    e = np.zeros(a.shape[0])\n",
    "    while(i < a.shape[0]):\n",
    "        j = 0\n",
    "        mi = 0\n",
    "        while(j < a.shape[1]):\n",
    "            mi += np.abs(a[i,j])\n",
    "            j += 1\n",
    "        e[i] = mi\n",
    "        i += 1\n",
    "    return Max(e)"
   ]
  },
  {
   "cell_type": "markdown",
   "metadata": {},
   "source": [
    "Check your result against NumPy's `la.norm(A,np.inf)` function for the following random matrix"
   ]
  },
  {
   "cell_type": "code",
   "execution_count": 389,
   "metadata": {},
   "outputs": [
    {
     "data": {
      "text/plain": [
       "2.260752099526049"
      ]
     },
     "execution_count": 389,
     "metadata": {},
     "output_type": "execute_result"
    }
   ],
   "source": [
    "A5 = np.random.rand(3,4)\n",
    "la.norm(A5,np.inf)"
   ]
  },
  {
   "cell_type": "code",
   "execution_count": 390,
   "metadata": {},
   "outputs": [
    {
     "data": {
      "text/plain": [
       "2.260752099526049"
      ]
     },
     "execution_count": 390,
     "metadata": {},
     "output_type": "execute_result"
    }
   ],
   "source": [
    "NormInf(A5)"
   ]
  },
  {
   "cell_type": "markdown",
   "metadata": {},
   "source": [
    "# Question 3: ill-conditions systems of equations\n",
    "\n",
    "In this question you can use any of NumPy's functions.\n",
    "\n",
    "## Q3a\n",
    "\n",
    "Which of the following three matrices, $A1, A2, A3$, are ill-conditioned. State the reason for your conclusion."
   ]
  },
  {
   "cell_type": "code",
   "execution_count": 46,
   "metadata": {},
   "outputs": [],
   "source": [
    "A1 = np.array([[0.988746460106, 0.351486109477, 0.024911477532, 0.384039749683],\n",
    "       [0.282104657306, 0.239884151775, 0.36170151991 , 0.903082266861],\n",
    "       [0.59333290915 , 0.637178863968, 0.241229214635, 0.685595037901],\n",
    "       [0.013591747828, 0.917926970364, 0.458689093885, 0.157821121254]])\n",
    "\n",
    "A2 = np.array([[ 2.852416473483e-01,  3.803483118694e-01,  2.697704226632e-01,  6.810611849029e-01],\n",
    "       [ 6.622827828376e-01,  6.447943415836e-01,  4.387842058829e-01,  1.530575702376e+00],\n",
    "       [ 3.672130860703e-01,  8.309522079704e-01,  9.975487474007e-01,  5.678296337101e-01],\n",
    "       [ 4.036490000599e-01,  6.865978225967e-06,  8.788095913773e-01, -7.150472427928e-02]])\n",
    "\n",
    "A3 = np.array([[0.131923621844, 0.245316154195, 0.732362341613, 0.957047891764],\n",
    "       [0.91290446184 , 0.512312007959, 0.391938831444, 0.092509684772],\n",
    "       [0.648708523652, 0.608576675797, 0.576773587276, 0.065385122929],\n",
    "       [0.502955480393, 0.084082960221, 0.659487390444, 0.662958739412]])"
   ]
  },
  {
   "cell_type": "code",
   "execution_count": null,
   "metadata": {},
   "outputs": [],
   "source": []
  },
  {
   "cell_type": "markdown",
   "metadata": {},
   "source": [
    "# Q3b\n",
    "\n",
    "With $b = [1,2,3,4]$ and $\\delta b = [0.1,0,0,0]$ for $A2$ and $A3$ calculate the percentage change in $x$ due to a small change in $b$, i.e., calculate \n",
    "\n",
    "$$100\\times\\frac{\\lVert \\delta x_i\\rVert_2}{\\lVert x_i \\rVert_2}\\quad\\text{and}\\quad 100\\times\\frac{\\lVert \\delta b\\rVert_2}{\\lVert b \\rVert_2}$$\n",
    "\n",
    "where $(x_i+\\delta x_i)  = A_i^{-1}(b+\\delta b)$ and $i\\in\\{2,3\\}$."
   ]
  },
  {
   "cell_type": "code",
   "execution_count": null,
   "metadata": {},
   "outputs": [],
   "source": []
  },
  {
   "cell_type": "markdown",
   "metadata": {},
   "source": [
    "Which system of equations is more sensitive to small changes in $b$? How could you have guessed this from the answer to the Q3a?"
   ]
  },
  {
   "cell_type": "code",
   "execution_count": 10,
   "metadata": {},
   "outputs": [],
   "source": [
    "# Answer here\n",
    "#"
   ]
  },
  {
   "cell_type": "markdown",
   "metadata": {},
   "source": [
    "# Question 4: eigensystems\n",
    "\n",
    "In this question we look at finding eigenvalues and eigenvectors\n",
    "\n",
    "## Q4a\n",
    "\n",
    "You may use any of NumPy's functions for this sub-question.\n",
    "\n",
    "Find the eigenvalues and eigenvectors for the below matrix. Print out the eigenvalues sorted by descending value and explicitly show that eigenvalues/eigenvector pairs satisfy $Ax = \\lambda x$."
   ]
  },
  {
   "cell_type": "code",
   "execution_count": 50,
   "metadata": {},
   "outputs": [],
   "source": [
    "A = np.array([[1,4,5],[4,5,4],[6,7,9]])"
   ]
  },
  {
   "cell_type": "code",
   "execution_count": null,
   "metadata": {},
   "outputs": [],
   "source": []
  },
  {
   "cell_type": "markdown",
   "metadata": {},
   "source": [
    "# Q4b\n",
    "\n",
    "Without using NumPy's `la.eig()` (or similar functions), find the 4 eigenvalues and eigenvectors of the following matrix. Hint: Use the power method for the max eigenvalue (given below in `MaxEigenvalue`), the power method applied to the inverse for the smallest eigenvalue, and apply Hotelling's deflation twice to find the second and third eigenvalues/eigenvectors."
   ]
  },
  {
   "cell_type": "code",
   "execution_count": 52,
   "metadata": {},
   "outputs": [],
   "source": [
    "A = np.array([[1.935052353404, 0.887037260957, 1.534235483277, 1.370691224125],\n",
    "       [0.887037260957, 0.81275989158 , 0.610238622918, 0.999150521052],\n",
    "       [1.534235483277, 0.610238622918, 1.562260333538, 1.007843062517],\n",
    "       [1.370691224125, 0.999150521052, 1.007843062517, 1.813258814483]])"
   ]
  },
  {
   "cell_type": "code",
   "execution_count": 53,
   "metadata": {},
   "outputs": [],
   "source": [
    "def MaxEigenvalue(A, err):\n",
    "    (m,n) = A.shape\n",
    "    if(m != n):\n",
    "        print(\"Matrix must be square\")\n",
    "        return\n",
    "    x = np.random.rand(m)\n",
    "    \n",
    "    lam = 0.1\n",
    "    lamprev = 1\n",
    "    while np.abs(1-lam/lamprev) > err:\n",
    "        p = np.dot(A,x)\n",
    "        lamprev = lam\n",
    "        lam = np.max(p)\n",
    "        x = p/lam\n",
    "        \n",
    "    x = x/la.norm(x)\n",
    "    return (lam,x)"
   ]
  },
  {
   "cell_type": "code",
   "execution_count": null,
   "metadata": {},
   "outputs": [],
   "source": []
  },
  {
   "cell_type": "markdown",
   "metadata": {},
   "source": [
    "Check your answers against Numpy's results from `la.eig(A)`"
   ]
  },
  {
   "cell_type": "code",
   "execution_count": null,
   "metadata": {},
   "outputs": [],
   "source": []
  }
 ],
 "metadata": {
  "kernelspec": {
   "display_name": "Python 3",
   "language": "python",
   "name": "python3"
  },
  "language_info": {
   "codemirror_mode": {
    "name": "ipython",
    "version": 3
   },
   "file_extension": ".py",
   "mimetype": "text/x-python",
   "name": "python",
   "nbconvert_exporter": "python",
   "pygments_lexer": "ipython3",
   "version": "3.7.6"
  }
 },
 "nbformat": 4,
 "nbformat_minor": 2
}
