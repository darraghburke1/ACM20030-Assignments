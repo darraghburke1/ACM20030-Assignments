{
 "cells": [
  {
   "cell_type": "markdown",
   "metadata": {},
   "source": [
    "#  Assignment 5\n",
    "\n",
    "This assignment covers material on matrices, norms, condition numbers and eigensystems. The assignment is due by 5pm on Friday the 17th of April.\n",
    "\n",
    "The breakdown of the marks is as follows:\n",
    "\n",
    "Question 0 - [1 mark]  \n",
    "Question 1 - [7 marks]  \n",
    "Questino 2 - [6 marks]  \n",
    "Question 3 - [7 marks]  \n",
    "Question 4 - [9 marks]  "
   ]
  },
  {
   "cell_type": "markdown",
   "metadata": {},
   "source": [
    "# Question 0\n",
    "\n",
    "You should have saved this notebook to your ACM20030-Assignments folder. Now:\n",
    "- commit the notebook to your local repository\n",
    "- push the changes to the GitHub"
   ]
  },
  {
   "cell_type": "code",
   "execution_count": 3,
   "metadata": {},
   "outputs": [],
   "source": [
    "import numpy as np\n",
    "from numpy import linalg as la\n",
    "np.set_printoptions(linewidth=200)  # This stops line wrapping of larger matrices"
   ]
  },
  {
   "cell_type": "markdown",
   "metadata": {},
   "source": [
    "# Question 1 - practice manipulating arrays\n",
    "\n",
    "This questions asks you write a few functions for manipulating arrays of data"
   ]
  },
  {
   "cell_type": "markdown",
   "metadata": {},
   "source": [
    "## Q1 a\n",
    "\n",
    "Write a function that checks if a given $n\\times n$ matrix is symmetric. Use only loops and `.shape` function from numpy (do not use any other special numpy functions)."
   ]
  },
  {
   "cell_type": "code",
   "execution_count": 4,
   "metadata": {},
   "outputs": [],
   "source": [
    "def SymCheck(matrix):\n",
    "    a = matrix\n",
    "    if(a.shape[0] != a.shape[1]):\n",
    "        return \"Input matrix is not a square matrix\"\n",
    "    i = 0\n",
    "    while(i < a.shape[0]):\n",
    "        j = 0\n",
    "        while(j < a.shape[0]):\n",
    "            if(a[i,j] != a[j,i]):\n",
    "                return \"Non-Symetric Matrix\"\n",
    "            j += 1\n",
    "        i += 1\n",
    "    return \"Symmetric Matrix\""
   ]
  },
  {
   "cell_type": "markdown",
   "metadata": {},
   "source": [
    "Test your function on the two matrices below"
   ]
  },
  {
   "cell_type": "code",
   "execution_count": 5,
   "metadata": {},
   "outputs": [],
   "source": [
    "A1 = np.random.rand(5,5)\n",
    "SymMatrix = (A1 + A1.T)/2"
   ]
  },
  {
   "cell_type": "code",
   "execution_count": 6,
   "metadata": {},
   "outputs": [
    {
     "data": {
      "text/plain": [
       "'Non-Symetric Matrix'"
      ]
     },
     "execution_count": 6,
     "metadata": {},
     "output_type": "execute_result"
    }
   ],
   "source": [
    "SymCheck(A1)"
   ]
  },
  {
   "cell_type": "code",
   "execution_count": 7,
   "metadata": {},
   "outputs": [
    {
     "data": {
      "text/plain": [
       "'Symmetric Matrix'"
      ]
     },
     "execution_count": 7,
     "metadata": {},
     "output_type": "execute_result"
    }
   ],
   "source": [
    "SymCheck(SymMatrix)"
   ]
  },
  {
   "cell_type": "markdown",
   "metadata": {},
   "source": [
    "## Q1 b\n",
    "\n",
    "Write a function to transpose a general $n\\times n$ matrix. Do this by writing loops and not using any special functions like `np.transpose()`, `A.T`, or any functions from any other library."
   ]
  },
  {
   "cell_type": "code",
   "execution_count": 8,
   "metadata": {},
   "outputs": [],
   "source": [
    "def Transpose(matrix):\n",
    "    a = matrix\n",
    "    if(a.shape[0] != a.shape[1]):\n",
    "        return \"Input matrix is not a square matrix\"    \n",
    "    t = np.zeros(a.shape)\n",
    "    i = 0 \n",
    "    while(i < a.shape[0]):\n",
    "        j = 0\n",
    "        while(j < a.shape[0]):\n",
    "            t[i,j] = a[j,i]\n",
    "            j += 1\n",
    "        i += 1\n",
    "    return t"
   ]
  },
  {
   "cell_type": "markdown",
   "metadata": {},
   "source": [
    "Check your code by transposing the below random matrix and checking that $A^T \\neq A$ and $(A^T)^T - A = 0$"
   ]
  },
  {
   "cell_type": "code",
   "execution_count": 10,
   "metadata": {
    "scrolled": false
   },
   "outputs": [
    {
     "name": "stdout",
     "output_type": "stream",
     "text": [
      "[[ 0.         -0.46842728  0.44806131 -0.3198319   0.24680341  0.13412263]\n",
      " [ 0.46842728  0.          0.19613927  0.25092718 -0.24590122  0.10948647]\n",
      " [-0.44806131 -0.19613927  0.         -0.39050117 -0.13350988  0.74776776]\n",
      " [ 0.3198319  -0.25092718  0.39050117  0.         -0.59938555 -0.03830693]\n",
      " [-0.24680341  0.24590122  0.13350988  0.59938555  0.         -0.12501078]\n",
      " [-0.13412263 -0.10948647 -0.74776776  0.03830693  0.12501078  0.        ]]\n"
     ]
    }
   ],
   "source": [
    "A2 = np.random.rand(6,6)\n",
    "\n",
    "print(Transpose(A2) - A2)\n",
    "# Not the 0 matrix so therefor AT and A are not equal"
   ]
  },
  {
   "cell_type": "code",
   "execution_count": 9,
   "metadata": {},
   "outputs": [
    {
     "data": {
      "text/plain": [
       "array([[0., 0., 0., 0., 0., 0.],\n",
       "       [0., 0., 0., 0., 0., 0.],\n",
       "       [0., 0., 0., 0., 0., 0.],\n",
       "       [0., 0., 0., 0., 0., 0.],\n",
       "       [0., 0., 0., 0., 0., 0.],\n",
       "       [0., 0., 0., 0., 0., 0.]])"
      ]
     },
     "execution_count": 9,
     "metadata": {},
     "output_type": "execute_result"
    }
   ],
   "source": [
    "print(Transpose(Transpose(A2)) - A2)\n",
    "# Is the 0 matrix so therefor our code effectively transposes the matrix"
   ]
  },
  {
   "cell_type": "markdown",
   "metadata": {},
   "source": [
    "## Q1c\n",
    "\n",
    "Write a function that finds the maximum entry in a matrix (where the matrix does not need to be square). Do this by writing loops and not using any special functions like `np.max` or any functions from any other library."
   ]
  },
  {
   "cell_type": "code",
   "execution_count": 36,
   "metadata": {},
   "outputs": [],
   "source": [
    "def Max(matrix):\n",
    "    a = matrix \n",
    "    m = 0\n",
    "    i = 0\n",
    "    if(a.shape == (len(a),)):\n",
    "        while(i < a.shape[0]):\n",
    "                if(a[i] > m):\n",
    "                    m = a[i]\n",
    "                i += 1\n",
    "        return m\n",
    "    while(i < a.shape[0]):\n",
    "        j = 0\n",
    "        while(j < a.shape[0]):\n",
    "            if(a[i,j] > m):\n",
    "                m = a[i,j]\n",
    "            j += 1\n",
    "        i += 1\n",
    "    return m"
   ]
  },
  {
   "cell_type": "markdown",
   "metadata": {},
   "source": [
    "Check your result by comparing to `np.max(A)` for the below random matrix"
   ]
  },
  {
   "cell_type": "code",
   "execution_count": 37,
   "metadata": {},
   "outputs": [
    {
     "name": "stdout",
     "output_type": "stream",
     "text": [
      "[[0.67402338 0.98955358 0.5806498  0.72750763 0.77640872]\n",
      " [0.17111361 0.24207131 0.80006759 0.40255916 0.01723086]\n",
      " [0.3815365  0.7374367  0.41638884 0.98291955 0.84084026]\n",
      " [0.03137502 0.93820821 0.19884496 0.02788937 0.35337321]]\n"
     ]
    }
   ],
   "source": [
    "A3 = np.random.rand(4,5)\n",
    "\n",
    "print(A3)"
   ]
  },
  {
   "cell_type": "code",
   "execution_count": 38,
   "metadata": {},
   "outputs": [
    {
     "data": {
      "text/plain": [
       "0.9895535760422383"
      ]
     },
     "execution_count": 38,
     "metadata": {},
     "output_type": "execute_result"
    }
   ],
   "source": [
    "Max(A3)\n",
    "# We can clearly see that this value is the largest element in our matrix"
   ]
  },
  {
   "cell_type": "markdown",
   "metadata": {},
   "source": [
    "# Question 2:  matrix norms\n",
    "\n",
    "In the lectures we focused on the $L^2$-norm. We also briefly mentioned the $L^1$ and $L^\\infty$ norm. Let's look at calculating those as well for a general $m\\times n$ matrix."
   ]
  },
  {
   "cell_type": "markdown",
   "metadata": {},
   "source": [
    "# Q2a\n",
    "\n",
    "The $L^1$ norm is given by\n",
    "\n",
    "$$ \\lVert A \\rVert_1 = \\max_j \\sum^m_{i=1} |a_{ij}| $$\n",
    "\n",
    "i.e., it is the max of the sums of the absolute values of each column. Write a function that computes the $L^1$-norm using only loops. The function should use no special numpy functions except `np.abs()`."
   ]
  },
  {
   "cell_type": "code",
   "execution_count": 39,
   "metadata": {},
   "outputs": [],
   "source": [
    "def Norm(matrix):\n",
    "    a = matrix\n",
    "    j = 0\n",
    "    i = 0\n",
    "    e = np.zeros(a.shape[1])\n",
    "    while(j < a.shape[1]):\n",
    "        i = 0\n",
    "        mi = 0\n",
    "        while(i < a.shape[0]):\n",
    "            mi += np.abs(a[i,j])\n",
    "            i += 1\n",
    "        e[j] = mi\n",
    "        j += 1\n",
    "    return Max(e)"
   ]
  },
  {
   "cell_type": "markdown",
   "metadata": {},
   "source": [
    "Check your result against NumPy's `la.norm(A,1)` function for the following random matrix"
   ]
  },
  {
   "cell_type": "code",
   "execution_count": 40,
   "metadata": {},
   "outputs": [],
   "source": [
    "A4 = np.random.rand(3,4)"
   ]
  },
  {
   "cell_type": "code",
   "execution_count": 41,
   "metadata": {},
   "outputs": [
    {
     "data": {
      "text/plain": [
       "1.887110641415743"
      ]
     },
     "execution_count": 41,
     "metadata": {},
     "output_type": "execute_result"
    }
   ],
   "source": [
    "la.norm(A4,1)"
   ]
  },
  {
   "cell_type": "code",
   "execution_count": 42,
   "metadata": {},
   "outputs": [
    {
     "data": {
      "text/plain": [
       "1.887110641415743"
      ]
     },
     "execution_count": 42,
     "metadata": {},
     "output_type": "execute_result"
    }
   ],
   "source": [
    "Norm(A4)"
   ]
  },
  {
   "cell_type": "markdown",
   "metadata": {},
   "source": [
    "## Q2b\n",
    "\n",
    "The $L^\\infty$ norm is given by \n",
    "\n",
    "$$\\lVert A \\rVert_\\infty = \\max_i \\sum_{j=1}^n |a_{ij}|$$\n",
    "\n",
    "i.e., it is the max of the sums of the absolute values of each row. Write a function that computes the $L^\\infty$-norm using only loops and no special numpy functions."
   ]
  },
  {
   "cell_type": "code",
   "execution_count": 43,
   "metadata": {},
   "outputs": [],
   "source": [
    "def NormInf(matrix):\n",
    "    a = matrix\n",
    "    j = 0\n",
    "    i = 0\n",
    "    e = np.zeros(a.shape[0])\n",
    "    while(i < a.shape[0]):\n",
    "        j = 0\n",
    "        mi = 0\n",
    "        while(j < a.shape[1]):\n",
    "            mi += np.abs(a[i,j])\n",
    "            j += 1\n",
    "        e[i] = mi\n",
    "        i += 1\n",
    "    return Max(e)"
   ]
  },
  {
   "cell_type": "markdown",
   "metadata": {},
   "source": [
    "Check your result against NumPy's `la.norm(A,np.inf)` function for the following random matrix"
   ]
  },
  {
   "cell_type": "code",
   "execution_count": 44,
   "metadata": {},
   "outputs": [
    {
     "data": {
      "text/plain": [
       "1.6195152396172903"
      ]
     },
     "execution_count": 44,
     "metadata": {},
     "output_type": "execute_result"
    }
   ],
   "source": [
    "A5 = np.random.rand(3,4)\n",
    "la.norm(A5,np.inf)"
   ]
  },
  {
   "cell_type": "code",
   "execution_count": 45,
   "metadata": {},
   "outputs": [
    {
     "data": {
      "text/plain": [
       "1.6195152396172903"
      ]
     },
     "execution_count": 45,
     "metadata": {},
     "output_type": "execute_result"
    }
   ],
   "source": [
    "NormInf(A5)"
   ]
  },
  {
   "cell_type": "markdown",
   "metadata": {},
   "source": [
    "# Question 3: ill-conditions systems of equations\n",
    "\n",
    "In this question you can use any of NumPy's functions.\n",
    "\n",
    "## Q3a\n",
    "\n",
    "Which of the following three matrices, $A1, A2, A3$, are ill-conditioned. State the reason for your conclusion."
   ]
  },
  {
   "cell_type": "code",
   "execution_count": 46,
   "metadata": {},
   "outputs": [],
   "source": [
    "A1 = np.array([[0.988746460106, 0.351486109477, 0.024911477532, 0.384039749683],\n",
    "       [0.282104657306, 0.239884151775, 0.36170151991 , 0.903082266861],\n",
    "       [0.59333290915 , 0.637178863968, 0.241229214635, 0.685595037901],\n",
    "       [0.013591747828, 0.917926970364, 0.458689093885, 0.157821121254]])\n",
    "\n",
    "A2 = np.array([[ 2.852416473483e-01,  3.803483118694e-01,  2.697704226632e-01,  6.810611849029e-01],\n",
    "       [ 6.622827828376e-01,  6.447943415836e-01,  4.387842058829e-01,  1.530575702376e+00],\n",
    "       [ 3.672130860703e-01,  8.309522079704e-01,  9.975487474007e-01,  5.678296337101e-01],\n",
    "       [ 4.036490000599e-01,  6.865978225967e-06,  8.788095913773e-01, -7.150472427928e-02]])\n",
    "\n",
    "A3 = np.array([[0.131923621844, 0.245316154195, 0.732362341613, 0.957047891764],\n",
    "       [0.91290446184 , 0.512312007959, 0.391938831444, 0.092509684772],\n",
    "       [0.648708523652, 0.608576675797, 0.576773587276, 0.065385122929],\n",
    "       [0.502955480393, 0.084082960221, 0.659487390444, 0.662958739412]])"
   ]
  },
  {
   "cell_type": "code",
   "execution_count": 48,
   "metadata": {},
   "outputs": [
    {
     "name": "stdout",
     "output_type": "stream",
     "text": [
      "21.552466488381857 13334921820.764688 15.122449699410627\n"
     ]
    }
   ],
   "source": [
    "c1 = la.norm(A1,2)*la.norm(la.inv(A1),2)\n",
    "c2 = la.norm(A2,2)*la.norm(la.inv(A2),2)\n",
    "c3 = la.norm(A3,2)*la.norm(la.inv(A3),2)\n",
    "\n",
    "print(c1, c2, c3)\n",
    "\n",
    "# Both A1 and A3 have relatively small condition numbers while A2 is much larger. Therefor A2 is ill-conditioned."
   ]
  },
  {
   "cell_type": "markdown",
   "metadata": {},
   "source": [
    "# Q3b\n",
    "\n",
    "With $b = [1,2,3,4]$ and $\\delta b = [0.1,0,0,0]$ for $A2$ and $A3$ calculate the percentage change in $x$ due to a small change in $b$, i.e., calculate \n",
    "\n",
    "$$100\\times\\frac{\\lVert \\delta x_i\\rVert_2}{\\lVert x_i \\rVert_2}\\quad\\text{and}\\quad 100\\times\\frac{\\lVert \\delta b\\rVert_2}{\\lVert b \\rVert_2}$$\n",
    "\n",
    "where $(x_i+\\delta x_i)  = A_i^{-1}(b+\\delta b)$ and $i\\in\\{2,3\\}$."
   ]
  },
  {
   "cell_type": "code",
   "execution_count": 49,
   "metadata": {},
   "outputs": [
    {
     "name": "stdout",
     "output_type": "stream",
     "text": [
      "Percentage change in b is 1.8257418583505538\n",
      "Percentage change in A2 is 512.6206098890646\n",
      "Percentage change in A3 is 2.173811243421917\n"
     ]
    }
   ],
   "source": [
    "b = np.array([1,2,3,4])\n",
    "db = np.array([0.1,0,0,0])\n",
    "bD = b + db\n",
    "\n",
    "x2 = np.dot(la.inv(A2),b)\n",
    "x3 = np.dot(la.inv(A3),b)\n",
    "\n",
    "x2n = np.dot(la.inv(A2),bD)\n",
    "x3n = np.dot(la.inv(A3),bD)\n",
    "\n",
    "# Change in b \n",
    "print(\"Percentage change in b is\", 100*la.norm(db)/(la.norm(b)))\n",
    "\n",
    "# Change in A2\n",
    "print(\"Percentage change in A2 is\", 100*(la.norm(np.abs(x2n-x2),2))/(la.norm(x2,2)))\n",
    "\n",
    "# Change in A3\n",
    "print(\"Percentage change in A3 is\", 100*(la.norm(np.abs(x3n-x3),2))/(la.norm(x3,2)))"
   ]
  },
  {
   "cell_type": "markdown",
   "metadata": {},
   "source": [
    "Which system of equations is more sensitive to small changes in $b$? How could you have guessed this from the answer to the Q3a?"
   ]
  },
  {
   "cell_type": "code",
   "execution_count": 50,
   "metadata": {},
   "outputs": [],
   "source": [
    "# Answer here\n",
    "# A2 is clearly more sensitive to changes in b as its has a much greater change in x than A3. This is not a surprising result\n",
    "# as the condition number of A2 is much greater than that of A3"
   ]
  },
  {
   "cell_type": "markdown",
   "metadata": {},
   "source": [
    "# Question 4: eigensystems\n",
    "\n",
    "In this question we look at finding eigenvalues and eigenvectors\n",
    "\n",
    "## Q4a\n",
    "\n",
    "You may use any of NumPy's functions for this sub-question.\n",
    "\n",
    "Find the eigenvalues and eigenvectors for the below matrix. Print out the eigenvalues sorted by descending value and explicitly show that eigenvalues/eigenvector pairs satisfy $Ax = \\lambda x$."
   ]
  },
  {
   "cell_type": "code",
   "execution_count": 51,
   "metadata": {},
   "outputs": [],
   "source": [
    "A = np.array([[1,4,5],[4,5,4],[6,7,9]])"
   ]
  },
  {
   "cell_type": "code",
   "execution_count": 71,
   "metadata": {
    "scrolled": true
   },
   "outputs": [
    {
     "name": "stdout",
     "output_type": "stream",
     "text": [
      "Eigenvalues for corresponding matrix A sorted in descending order:\n",
      "[4.91480442 0.85058153 0.21512836 0.14281707]\n",
      "---------------------------------------------\n",
      "Comparison relating to λ = 4.914804423499762\n",
      "Ax = [2.94630933 1.63755414 2.43420985 2.62061113]\n",
      "λx = [2.94630933 1.63755414 2.43420985 2.62061113]\n",
      "---------------------------------------------\n",
      "Comparison relating to λ = 0.8505815318666323\n",
      "Ax = [ 0.26133321 -0.33125447  0.49582493 -0.54737739]\n",
      "λx = [ 0.26133321 -0.33125447  0.49582493 -0.54737739]\n",
      "---------------------------------------------\n",
      "Comparison relating to λ = 0.2151283639569389\n",
      "Ax = [-0.09043171  0.07599945  0.0781318  -0.01839366]\n",
      "λx = [-0.13621919  0.11447957  0.11769158 -0.02770675]\n"
     ]
    }
   ],
   "source": [
    "e = la.eig(A)[0]\n",
    "es = np.sort(e)[::-1]\n",
    "\n",
    "e1 = np.sort(e)[::-1][0]\n",
    "e2 = np.sort(e)[::-1][1]\n",
    "e3 = np.sort(e)[::-1][2]\n",
    "\n",
    "print(\"Eigenvalues for corresponding matrix A sorted in descending order:\")\n",
    "print(es)\n",
    "\n",
    "v1 = la.eig(A)[1][:,0]\n",
    "v2 = la.eig(A)[1][:,1]\n",
    "v3 = la.eig(A)[1][:,2]\n",
    "\n",
    "print(\"---------------------------------------------\")\n",
    "print(\"Comparison relating to λ =\", e1)\n",
    "print(\"Ax =\", np.dot(A,v1))\n",
    "print(\"λx =\", e1*v1)\n",
    "print(\"---------------------------------------------\")\n",
    "print(\"Comparison relating to λ =\", e2)\n",
    "print(\"Ax =\", np.dot(A,v2))\n",
    "print(\"λx =\", e2*v2)\n",
    "print(\"---------------------------------------------\")\n",
    "print(\"Comparison relating to λ =\", e3)\n",
    "print(\"Ax =\", np.dot(A,v3))\n",
    "print(\"λx =\", e3*v3)"
   ]
  },
  {
   "cell_type": "markdown",
   "metadata": {},
   "source": [
    "# Q4b\n",
    "\n",
    "Without using NumPy's `la.eig()` (or similar functions), find the 4 eigenvalues and eigenvectors of the following matrix. Hint: Use the power method for the max eigenvalue (given below in `MaxEigenvalue`), the power method applied to the inverse for the smallest eigenvalue, and apply Hotelling's deflation twice to find the second and third eigenvalues/eigenvectors."
   ]
  },
  {
   "cell_type": "code",
   "execution_count": 72,
   "metadata": {},
   "outputs": [],
   "source": [
    "A = np.array([[1.935052353404, 0.887037260957, 1.534235483277, 1.370691224125],\n",
    "       [0.887037260957, 0.81275989158 , 0.610238622918, 0.999150521052],\n",
    "       [1.534235483277, 0.610238622918, 1.562260333538, 1.007843062517],\n",
    "       [1.370691224125, 0.999150521052, 1.007843062517, 1.813258814483]])"
   ]
  },
  {
   "cell_type": "code",
   "execution_count": 73,
   "metadata": {},
   "outputs": [],
   "source": [
    "def MaxEigenvalue(A, err):\n",
    "    (m,n) = A.shape\n",
    "    if(m != n):\n",
    "        print(\"Matrix must be square\")\n",
    "        return\n",
    "    x = np.random.rand(m)    \n",
    "    lam = 0.1\n",
    "    lamprev = 1\n",
    "    while np.abs(1-lam/lamprev) > err:\n",
    "        p = np.dot(A,x)\n",
    "        lamprev = lam\n",
    "        lam = np.max(p)\n",
    "        x = p/lam        \n",
    "    x = x/la.norm(x)\n",
    "    return (lam,x)"
   ]
  },
  {
   "cell_type": "code",
   "execution_count": 77,
   "metadata": {
    "scrolled": false
   },
   "outputs": [
    {
     "name": "stdout",
     "output_type": "stream",
     "text": [
      "Eigenvalues sorted in descending order:\n",
      "[4.91480442 0.85058153 0.21512836 0.14281707]\n",
      "---------------------------------------------\n",
      "Eigenvector relating to λ =  4.914804423499763\n",
      "e3 = [0.59947641 0.33318806 0.49528112 0.53320761]\n",
      "---------------------------------------------\n",
      "Eigenvector relating to λ =  0.8505815318666318\n",
      "e2 = [ 0.30724064 -0.3894447   0.58292464 -0.64353313]\n",
      "---------------------------------------------\n",
      "Eigenvector relating to λ =  0.21512836395693863\n",
      "e1 = [ 0.3811686   0.67389895 -0.34000478 -0.53382343]\n",
      "---------------------------------------------\n",
      "Eigenvector relating to λ =  0.14281707368166519\n",
      "e0 = [-0.63319959  0.53214542  0.54707607 -0.12879172]\n"
     ]
    }
   ],
   "source": [
    "EV3 = MaxEigenvalue(A, 10**(-15))\n",
    "λ3 = EV3[0]\n",
    "e3 = EV3[1]\n",
    "\n",
    "M2 = A - λ3*np.outer(e3,e3)\n",
    "\n",
    "EV2 = MaxEigenvalue(M2, 10**(-15))\n",
    "λ2 = EV2[0]\n",
    "e2 = EV2[1]\n",
    "\n",
    "M1 = M2 - λ2*np.outer(e2,e2)\n",
    "\n",
    "EV1 = MaxEigenvalue(M1, 10**(-15))\n",
    "λ1 = EV1[0]\n",
    "e1 = EV1[1]\n",
    "\n",
    "M0 = M1 - λ1*np.outer(e1,e1)\n",
    "\n",
    "EV0 = MaxEigenvalue(M0, 10**(-15))\n",
    "λ0 = EV0[0]\n",
    "e0 = EV0[1]\n",
    "\n",
    "λ = np.array([λ3, λ2, λ1, λ0])\n",
    "print(\"Eigenvalues sorted in descending order:\")\n",
    "print(λ)\n",
    "print(\"---------------------------------------------\")\n",
    "print(\"Eigenvector relating to λ = \", λ3)\n",
    "print(\"e3 =\", e3)\n",
    "print(\"---------------------------------------------\")\n",
    "print(\"Eigenvector relating to λ = \", λ2)\n",
    "print(\"e2 =\", e2)\n",
    "print(\"---------------------------------------------\")\n",
    "print(\"Eigenvector relating to λ = \", λ1)\n",
    "print(\"e1 =\", e1)\n",
    "print(\"---------------------------------------------\")\n",
    "print(\"Eigenvector relating to λ = \", λ0)\n",
    "print(\"e0 =\", e0)"
   ]
  },
  {
   "cell_type": "markdown",
   "metadata": {},
   "source": [
    "Check your answers against Numpy's results from `la.eig(A)`"
   ]
  },
  {
   "cell_type": "code",
   "execution_count": 29,
   "metadata": {},
   "outputs": [
    {
     "name": "stdout",
     "output_type": "stream",
     "text": [
      "(array([4.91480442, 0.85058153, 0.14281707, 0.21512836]), array([[ 0.59947641,  0.30724064, -0.63319959, -0.3811686 ],\n",
      "       [ 0.33318806, -0.3894447 ,  0.53214542, -0.67389895],\n",
      "       [ 0.49528112,  0.58292464,  0.54707607,  0.34000478],\n",
      "       [ 0.53320761, -0.64353313, -0.12879172,  0.53382343]]))\n"
     ]
    }
   ],
   "source": [
    "print(la.eig(A))\n",
    "# We can clearly compare the correspoding eigenvalues to their eigenvectors and see that the previous values are the same.\n",
    "# Note: as a result of the MaxEigenvalue function defining its variable x randomly, our corresponding eigenvectors may\n",
    "# sometimes point in the opposite direction. However this is still a perfectly valid answer. "
   ]
  }
 ],
 "metadata": {
  "kernelspec": {
   "display_name": "Python 3",
   "language": "python",
   "name": "python3"
  },
  "language_info": {
   "codemirror_mode": {
    "name": "ipython",
    "version": 3
   },
   "file_extension": ".py",
   "mimetype": "text/x-python",
   "name": "python",
   "nbconvert_exporter": "python",
   "pygments_lexer": "ipython3",
   "version": "3.7.6"
  }
 },
 "nbformat": 4,
 "nbformat_minor": 2
}
