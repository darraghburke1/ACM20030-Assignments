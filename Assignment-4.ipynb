{
 "cells": [
  {
   "cell_type": "markdown",
   "metadata": {},
   "source": [
    "# Assignment 4\n",
    "\n",
    "This assignment covers material on numerical integration. The assignment is due on by 7pm on Friday the 6th of March.\n",
    "\n",
    "The breakdown of the marks is as follows:\n",
    "\n",
    "Question 0 - [1 mark]  \n",
    "Question 1 - [4 marks]  \n",
    "Questino 2 - [5 marks]  \n",
    "Question 3 - [5 marks]  \n",
    "Question 4 - [5 marks]  \n",
    "Question 5 - [5 marks]  \n",
    "Question 6 - [5 marks]  "
   ]
  },
  {
   "cell_type": "markdown",
   "metadata": {},
   "source": [
    "# Question 0\n",
    "\n",
    "You should have saved this notebook to your ACM20030-Assignments folder. Now:\n",
    "- commit the notebook to your local repository\n",
    "- push the changes to the GitHub"
   ]
  },
  {
   "cell_type": "code",
   "execution_count": 1,
   "metadata": {},
   "outputs": [],
   "source": [
    "import numpy as np\n",
    "import matplotlib.pyplot as plt\n",
    "\n",
    "# The below commands make the font and image size bigger\n",
    "plt.rcParams.update({'font.size': 22})\n",
    "plt.rcParams[\"figure.figsize\"] = (15,10)"
   ]
  },
  {
   "cell_type": "markdown",
   "metadata": {},
   "source": [
    "# Question 1"
   ]
  },
  {
   "cell_type": "markdown",
   "metadata": {},
   "source": [
    "In this question you will be asked to evaluate definite integrals in the form:\n",
    "\n",
    "$$ \\int_a^b f(x)\\, dx$$ \n",
    "\n",
    "using Simpson's rule. You can copy code from the [examples repository](https://github.com/nielsw2/ACM20030-Examples) if you wish, but if you do remove all the plotting functionality. Do not use SciPy or any other library to evaluate the integrals, unless explicitly asked to do so."
   ]
  },
  {
   "cell_type": "code",
   "execution_count": 2,
   "metadata": {},
   "outputs": [],
   "source": [
    "def SimpsonsIntegrate(f, a, b, N):\n",
    "    dx = (b-a)/N\n",
    "    xi = a\n",
    "    area = 0\n",
    "    i = 0\n",
    "    while i < N:\n",
    "        area += dx/6*(f(xi) + 4*f((2*xi+dx)/2) + f(xi+dx))\n",
    "        \n",
    "        xi += dx\n",
    "        i += 1\n",
    "    return area"
   ]
  },
  {
   "cell_type": "markdown",
   "metadata": {},
   "source": [
    "## Q1 a\n",
    "\n",
    "Evaluate $$ \\frac{1}{\\sqrt{\\pi}}\\int^{10}_{-10} e^{-x^2}\\, dx$$\n",
    "\n",
    "Use enough strips so that the result is accurate to a relative error of of at least 1e-6. Hint: to within machine precision the above integral evaluates to  1 ."
   ]
  },
  {
   "cell_type": "code",
   "execution_count": 3,
   "metadata": {},
   "outputs": [
    {
     "name": "stdout",
     "output_type": "stream",
     "text": [
      "Area = 1.0\n",
      "Error = 0.0\n"
     ]
    }
   ],
   "source": [
    "def f1(x):\n",
    "    return np.exp(-x**2)/np.sqrt(np.pi)\n",
    "\n",
    "print('Area =',SimpsonsIntegrate(f1, -10, 10, 100))\n",
    "print('Error =',np.abs(SimpsonsIntegrate(f1, -10, 10, 100) - 1))\n"
   ]
  },
  {
   "cell_type": "markdown",
   "metadata": {},
   "source": [
    "## Q1 b\n",
    "\n",
    "Evaluate\n",
    "\n",
    "$$\\int^{50}_{-50} \\frac{1}{\\cosh x}\\,dx $$\n",
    "\n",
    "Use enough strips so that the result is accurate to a relative error of at least `1e-6`. Hint: to within machine precision the above integral evaluates to $\\pi$."
   ]
  },
  {
   "cell_type": "code",
   "execution_count": 4,
   "metadata": {},
   "outputs": [
    {
     "name": "stdout",
     "output_type": "stream",
     "text": [
      "Error = 4.440892098500626e-16\n",
      "Area = 3.1415926535897927\n"
     ]
    }
   ],
   "source": [
    "def f2(x):\n",
    "    return 1/(np.cosh(x))\n",
    "\n",
    "print('Error =',np.abs(SimpsonsIntegrate(f2, -50, 50, 1000) - np.pi))\n",
    "\n",
    "print('Area =',SimpsonsIntegrate(f2, -50, 50, 1000))"
   ]
  },
  {
   "cell_type": "markdown",
   "metadata": {},
   "source": [
    "## Q1 c\n",
    "\n",
    "Use SciPy's `integrate.quad()` function to evaluate the integrals in Q1a and Q1b"
   ]
  },
  {
   "cell_type": "code",
   "execution_count": 5,
   "metadata": {},
   "outputs": [],
   "source": [
    "from scipy import integrate as inte"
   ]
  },
  {
   "cell_type": "code",
   "execution_count": 6,
   "metadata": {},
   "outputs": [
    {
     "name": "stdout",
     "output_type": "stream",
     "text": [
      "(0.9999999999999999, 2.085612812503633e-13)\n",
      "(3.141592653589793, 5.5381858831212136e-11)\n"
     ]
    }
   ],
   "source": [
    "result1 = inte.quad(f1, -10, 10)\n",
    "result2 = inte.quad(f2, -50, 50)\n",
    "\n",
    "print(result1)\n",
    "print(result2)"
   ]
  },
  {
   "cell_type": "markdown",
   "metadata": {},
   "source": [
    "# Question 2 - improper integrals\n",
    "\n",
    "In the lectures we looked at numerically evaluating indefinite integrals of the form\n",
    "\n",
    "$$ \\int^b_a f(x)\\, dx$$ where $a,b$ are finite. What about improper integrals where either $a$, $b$ or both are infinite? The methods we know so far cannot immediately be applied to these cases.\n",
    "\n",
    "One method is to transform the integral using the result\n",
    "\n",
    "$$ \\int_a^b f(x)\\, dx = \\int^{1/a}_{1/b} t^{-2} f(t^{-1})\\, dt$$\n",
    "\n",
    "which holds so long as $a,b>0$."
   ]
  },
  {
   "cell_type": "markdown",
   "metadata": {},
   "source": [
    "## Q2 a\n",
    "\n",
    "Using the above result numerically evaluate the following integral\n",
    "\n",
    "$$ \\int^\\infty_1 \\frac{\\log(x)}{x^3}\\,dx $$\n",
    "\n",
    "using Simpson's rule. Use 100 strips to evaluate the integral.\n",
    "\n",
    "Hint: you will have to use an `if` statement inside your transformed function for to deal with $t=0$. For this case it is useful to note that $\\lim_{t\\rightarrow0} t \\log(1/t) = 0$."
   ]
  },
  {
   "cell_type": "code",
   "execution_count": 7,
   "metadata": {},
   "outputs": [
    {
     "data": {
      "text/plain": [
       "0.24999807459463722"
      ]
     },
     "execution_count": 7,
     "metadata": {},
     "output_type": "execute_result"
    }
   ],
   "source": [
    "def f3(x):\n",
    "    return np.log(x)/x**3\n",
    "\n",
    "def SimpsonsIntegrate2(f, a, b, N):\n",
    "    def t(x):\n",
    "        if (x == 0):\n",
    "            result = 0\n",
    "        if (x != 0):\n",
    "            result = (x**-2)*f(x**-1)\n",
    "        return result\n",
    "    dx = (1/a-1/b)/N\n",
    "    xi = 1/b\n",
    "    area = 0\n",
    "    i = 0\n",
    "    while i < N:\n",
    "        area += dx/6*(t(xi) + 4*t((2*xi+dx)/2) + t(xi+dx))\n",
    "        xi += dx\n",
    "        i += 1\n",
    "    return area\n",
    "\n",
    "SimpsonsIntegrate2(f3, 1, np.inf, 100)"
   ]
  },
  {
   "cell_type": "markdown",
   "metadata": {},
   "source": [
    "## Q2 b\n",
    "\n",
    "Numerically evaluate\n",
    "\n",
    "$$ \\int^\\infty_0 \\frac{1}{(x+1)^3}\\,dx$$\n",
    "\n",
    "using Simpson's rule.\n",
    "\n",
    "Hint: break the integral into two integrals, one with a finite domain and one with an infinite domain. In each domain use 100 strips to evalute the integral. Check your answer against the analytic result."
   ]
  },
  {
   "cell_type": "code",
   "execution_count": 8,
   "metadata": {},
   "outputs": [
    {
     "name": "stdout",
     "output_type": "stream",
     "text": [
      "0.5000000000807215\n"
     ]
    }
   ],
   "source": [
    "def f4(x):\n",
    "    return 1/(x+1)**3\n",
    "\n",
    "finite = SimpsonsIntegrate(f4, 0, 1, 100)\n",
    "infinite = SimpsonsIntegrate2(f4, 1, np.inf, 100)\n",
    "print(finite + infinite)"
   ]
  },
  {
   "cell_type": "markdown",
   "metadata": {},
   "source": [
    "# Question 3 - Boole's rule\n",
    "\n",
    "Fitting the integrand to a quintic polynomial results in Boole's rule for integration. In the lecture the formula for Boole's rule was given as\n",
    "\n",
    "$$ \\int^b_a f(x)\\,dx \\simeq \\frac{2 \\Delta x}{45}\\left(7f_0 + 32 f_1 + 12 f_2 +32f_3 + 7 f_4\\right) $$\n",
    "\n",
    "where $\\Delta x = (b-a)/4$, and $f_i = f(a + i\\Delta x)$."
   ]
  },
  {
   "cell_type": "markdown",
   "metadata": {},
   "source": [
    "## Q3 a\n",
    "\n",
    "Write a function that numerically integrates another function using Boole's rule. Use the following function definition:"
   ]
  },
  {
   "cell_type": "code",
   "execution_count": 9,
   "metadata": {},
   "outputs": [],
   "source": [
    "def BooleIntegration(f, a, b, N):\n",
    "    dx = (b-a)/(4*N)\n",
    "    area = 0\n",
    "    i = 0\n",
    "    while (i < N):\n",
    "        xi = a + 4*i*dx\n",
    "        area += 2*dx/45*(7*f(xi)+32*f(xi+dx)+12*f(xi+2*dx)+32*f(xi+3*dx)+7*f(xi+4*dx))\n",
    "        i += 1\n",
    "    return area"
   ]
  },
  {
   "cell_type": "markdown",
   "metadata": {},
   "source": [
    "Test your function by evaluating the following using 100 strips.\n",
    "\n",
    "$$ \\int_0^\\pi \\sin(x)\\,dx $$"
   ]
  },
  {
   "cell_type": "code",
   "execution_count": 10,
   "metadata": {},
   "outputs": [
    {
     "name": "stdout",
     "output_type": "stream",
     "text": [
      "1.999999999999998\n"
     ]
    }
   ],
   "source": [
    "def f5(x):\n",
    "    return np.sin(x)\n",
    "\n",
    "print(BooleIntegration(f5, 0, np.pi, 100))"
   ]
  },
  {
   "cell_type": "markdown",
   "metadata": {},
   "source": [
    "## Q3 b\n",
    "\n",
    "For Boole's rule show that the global error scales as $\\Delta x^6$. The below plot shows a $\\Delta x^6$ reference line."
   ]
  },
  {
   "cell_type": "code",
   "execution_count": 11,
   "metadata": {},
   "outputs": [
    {
     "data": {
      "image/png": "[encoded data removed]",
      "text/plain": [
       "<Figure size 1080x720 with 1 Axes>"
      ]
     },
     "metadata": {
      "needs_background": "light"
     },
     "output_type": "display_data"
    }
   ],
   "source": [
    "x = np.linspace(10,48,90)\n",
    "y = x**-6\n",
    "\n",
    "yM = np.empty([38,2])\n",
    "N = 10\n",
    "i = 0\n",
    "while (i < 38):\n",
    "    yM[i,0] = N\n",
    "    yM[i,1] = np.abs(BooleIntegration(f5, 0, np.pi, N)-2)\n",
    "    i += 1\n",
    "    N += 1\n",
    "\n",
    "plt.yscale('log')\n",
    "plt.xscale('log')\n",
    "plt.grid(True)\n",
    "plt.plot(x,y, 'g');\n",
    "plt.scatter(yM[:,0], yM[:,1])\n",
    "plt.legend([\"Reference Line\",\"Function Error Scaling\"])\n",
    "plt.show()"
   ]
  },
  {
   "cell_type": "code",
   "execution_count": 39,
   "metadata": {},
   "outputs": [
    {
     "data": {
      "text/plain": [
       "array([[1.00000000e+01, 9.96725369e-10],\n",
       "       [1.10000000e+01, 5.62308422e-10],\n",
       "       [1.20000000e+01, 3.33470584e-10],\n",
       "       [1.30000000e+01, 2.06224371e-10],\n",
       "       [1.40000000e+01, 1.32165168e-10],\n",
       "       [1.50000000e+01, 8.73461303e-11],\n",
       "       [1.60000000e+01, 5.92921268e-11],\n",
       "       [1.70000000e+01, 4.12059276e-11],\n",
       "       [1.80000000e+01, 2.92394997e-11],\n",
       "       [1.90000000e+01, 2.11368700e-11],\n",
       "       [2.00000000e+01, 1.55357949e-11],\n",
       "       [2.10000000e+01, 1.15920606e-11],\n",
       "       [2.20000000e+01, 8.76876349e-12],\n",
       "       [2.30000000e+01, 6.71551703e-12],\n",
       "       [2.40000000e+01, 5.20228305e-12],\n",
       "       [2.50000000e+01, 4.07140988e-12],\n",
       "       [2.60000000e+01, 3.21720428e-12],\n",
       "       [2.70000000e+01, 2.56505928e-12],\n",
       "       [2.80000000e+01, 2.06279438e-12],\n",
       "       [2.90000000e+01, 1.67110770e-12],\n",
       "       [3.00000000e+01, 1.36335387e-12],\n",
       "       [3.10000000e+01, 1.11954890e-12],\n",
       "       [3.20000000e+01, 9.25481913e-13],\n",
       "       [3.30000000e+01, 7.69828645e-13],\n",
       "       [3.40000000e+01, 6.43263220e-13],\n",
       "       [3.50000000e+01, 5.40678613e-13],\n",
       "       [3.60000000e+01, 4.56079619e-13],\n",
       "       [3.70000000e+01, 3.87467836e-13],\n",
       "       [3.80000000e+01, 3.29736238e-13],\n",
       "       [3.90000000e+01, 2.82440737e-13],\n",
       "       [4.00000000e+01, 2.42472709e-13],\n",
       "       [4.10000000e+01, 2.09166018e-13],\n",
       "       [4.20000000e+01, 1.80744308e-13],\n",
       "       [4.30000000e+01, 1.57429625e-13],\n",
       "       [4.40000000e+01, 1.36779477e-13],\n",
       "       [4.50000000e+01, 1.19459997e-13],\n",
       "       [4.60000000e+01, 1.04805054e-13],\n",
       "       [4.70000000e+01, 9.25926003e-14]])"
      ]
     },
     "execution_count": 39,
     "metadata": {},
     "output_type": "execute_result"
    }
   ],
   "source": [
    "yM\n",
    "yM = np.empty([38,2])\n",
    "yM"
   ]
  },
  {
   "cell_type": "markdown",
   "metadata": {},
   "source": [
    "# Question 4 - integrand with a singularity\n",
    "\n",
    "The techniques developed in the lecture require the integrand to be continuous and bounded. What happens if there is a singularity in the integrand? In general these can be difficult to deal with (though some more generic methods exist - see, e.g., [Tanh-sinh quadrature](https://en.wikipedia.org/wiki/Tanh-sinh_quadrature)).\n",
    "\n",
    "In this example we will look at an explicit example that can be dealt with by a change of variables. Consider the identity:\n",
    "\n",
    "$$ \\int_0^1 \\frac{f(x)}{x^\\alpha}\\, dx = \\frac{1}{\\alpha} \\int_0^1 f(t^{1/\\alpha}) t^{(1-2\\alpha)/\\alpha}\\,dt$$\n",
    "\n",
    "which is achived by changing variables using $t = x^\\alpha$. This identity holds when $0 < \\alpha < 1$ and $f(x)$ is continous on $[0,1]$."
   ]
  },
  {
   "cell_type": "markdown",
   "metadata": {},
   "source": [
    "Let\n",
    "$$I = \\int^1_0 \\frac{\\cos(10x)}{x^{1/2}}\\,dx $$\n",
    "\n",
    "Plot the integrand in the range $[0,1]$, use a grid and label your axes."
   ]
  },
  {
   "cell_type": "code",
   "execution_count": 12,
   "metadata": {},
   "outputs": [
    {
     "data": {
      "image/png": "[encoded data removed]",
      "text/plain": [
       "<Figure size 1080x720 with 1 Axes>"
      ]
     },
     "metadata": {
      "needs_background": "light"
     },
     "output_type": "display_data"
    }
   ],
   "source": [
    "def f6(x):\n",
    "    return np.cos(10*x)/(x**(1/2))\n",
    "    \n",
    "\n",
    "x1 = np.linspace(0.01,1,100000)\n",
    "y1 = f6(x1)\n",
    "\n",
    "plt.plot(x1, y1)\n",
    "plt.xlabel(\"x\")\n",
    "plt.ylabel(\"y\")\n",
    "plt.grid(True)\n",
    "plt.show()"
   ]
  },
  {
   "cell_type": "markdown",
   "metadata": {},
   "source": [
    "Define and plot the transformed integrand. For the plot use a grid and label your axes."
   ]
  },
  {
   "cell_type": "code",
   "execution_count": 13,
   "metadata": {},
   "outputs": [
    {
     "data": {
      "image/png": "[encoded data removed]",
      "text/plain": [
       "<Figure size 1080x720 with 1 Axes>"
      ]
     },
     "metadata": {
      "needs_background": "light"
     },
     "output_type": "display_data"
    }
   ],
   "source": [
    "def f7(t):\n",
    "    return 2*np.cos(10*t**2)\n",
    "\n",
    "plt.plot(x1, f7(x1))\n",
    "plt.xlabel(\"x\")\n",
    "plt.ylabel(\"y\")\n",
    "plt.grid(True)\n",
    "plt.show()"
   ]
  },
  {
   "cell_type": "markdown",
   "metadata": {},
   "source": [
    "Numerically evaluate $I$ using Simpson's rule. Use 100 strips to do this."
   ]
  },
  {
   "cell_type": "code",
   "execution_count": 14,
   "metadata": {},
   "outputs": [
    {
     "name": "stdout",
     "output_type": "stream",
     "text": [
      "0.34636620914645183\n"
     ]
    }
   ],
   "source": [
    "print(SimpsonsIntegrate(f7, 0, 1, 100))"
   ]
  },
  {
   "cell_type": "markdown",
   "metadata": {},
   "source": [
    "# Question 5\n",
    "\n",
    "Write your own function to integrate the following data using Simpson's rule."
   ]
  },
  {
   "cell_type": "code",
   "execution_count": 15,
   "metadata": {},
   "outputs": [],
   "source": [
    "x = np.linspace(0, np.pi, 101)\n",
    "dx = x[1]-x[0]\n",
    "y = np.sin(x)"
   ]
  },
  {
   "cell_type": "code",
   "execution_count": 34,
   "metadata": {},
   "outputs": [],
   "source": [
    "def SimpsonsIntegrateData(y, dx):\n",
    "    area = 0\n",
    "    i = 0\n",
    "    while (2*i + 2 < len(y)):\n",
    "        area += 2*dx/6*(y[2*i] + 4*y[2*i+1] + y[(2*i+2)])\n",
    "        i += 1\n",
    "    return area"
   ]
  },
  {
   "cell_type": "markdown",
   "metadata": {
    "scrolled": true
   },
   "source": [
    "Integrate the data using your function"
   ]
  },
  {
   "cell_type": "code",
   "execution_count": 35,
   "metadata": {},
   "outputs": [
    {
     "data": {
      "text/plain": [
       "2.000000010824504"
      ]
     },
     "execution_count": 35,
     "metadata": {},
     "output_type": "execute_result"
    }
   ],
   "source": [
    "SimpsonsIntegrateData(y, dx)"
   ]
  },
  {
   "cell_type": "markdown",
   "metadata": {},
   "source": [
    "Recall that Simpson's method needs an odd number of data points to work. If you use an even number you will get a bad result. If you check the convergence rate in this case you will see it is not what is expected. Checking the convergence rate is an important test of an integration code."
   ]
  },
  {
   "cell_type": "markdown",
   "metadata": {},
   "source": [
    "# Question 6\n",
    "\n",
    "Evaluate the following integral using both Simpsons rule and an RK4 ODE method\n",
    "\n",
    "$$ \\int_0^5 \\sinh(x) (x-5)\\, dx $$\n",
    "\n",
    "Compare the results of the two methods and take sufficient strips/small enough step sizes to ensure the results agree to a relative accuracy of 1e-6."
   ]
  },
  {
   "cell_type": "code",
   "execution_count": 18,
   "metadata": {},
   "outputs": [
    {
     "data": {
      "text/plain": [
       "-69.2032100839051"
      ]
     },
     "execution_count": 18,
     "metadata": {},
     "output_type": "execute_result"
    }
   ],
   "source": [
    "def f8(x):\n",
    "    return np.sinh(x)*(x-5)\n",
    "\n",
    "SimpsonsIntegrate(f8, 0, 5, 100)"
   ]
  },
  {
   "cell_type": "code",
   "execution_count": 42,
   "metadata": {},
   "outputs": [],
   "source": [
    "def dydx(x,y):\n",
    "    return np.sinh(x)*(x-5)\n",
    "\n",
    "def RK4StepI(f, x1, x2, y, imax):\n",
    "    xi = x1\n",
    "    yi = y\n",
    "    dx = (x2-x1)/imax\n",
    "    i = 0\n",
    "    while i < imax:\n",
    "        k1 = dx*f(xi,yi)\n",
    "        k2 = dx*f(xi + 0.5*dx, yi + 0.5*k1)\n",
    "        k3 = dx*f(xi + 0.5*dx, yi + 0.5*k2)\n",
    "        k4 = dx*f(xi + dx, yi + k3)\n",
    "        yi = yi + 1/6*(k1 + 2*k2 + 2*k3 + k4)\n",
    "        xi += dx\n",
    "        i  += 1\n",
    "        print(k1)\n",
    "        print(dx)\n",
    "    return yi"
   ]
  },
  {
   "cell_type": "code",
   "execution_count": 43,
   "metadata": {},
   "outputs": [
    {
     "name": "stdout",
     "output_type": "stream",
     "text": [
      "-0.0\n",
      "0.05\n",
      "-0.012380156894569618\n",
      "0.05\n",
      "-0.02454085375486179\n",
      "0.05\n",
      "-0.036511559789266075\n",
      "0.05\n",
      "-0.048320640609862554\n",
      "0.05\n",
      "-0.05999542524193997\n",
      "0.05\n",
      "-0.07156226896007852\n",
      "0.05\n",
      "-0.08304661209416572\n",
      "0.05\n",
      "-0.09447303493464755\n",
      "0.05\n",
      "-0.10586530885252997\n",
      "0.05\n",
      "-0.11724644373609315\n",
      "0.05\n",
      "-0.12863873183291857\n",
      "0.05\n",
      "-0.1400637880726131\n",
      "0.05\n",
      "-0.15154258693250072\n",
      "0.05\n",
      "-0.16309549589549974\n",
      "0.05\n",
      "-0.1747423055363639\n",
      "0.05\n",
      "-0.18650225625940087\n",
      "0.05\n",
      "-0.1983940616976412\n",
      "0.05\n",
      "-0.210435928770176\n",
      "0.05\n",
      "-0.22264557438096122\n",
      "0.05\n",
      "-0.23504023872876037\n",
      "0.05\n",
      "-0.2476366951840109\n",
      "0.05\n",
      "-0.26045125667421454\n",
      "0.05\n",
      "-0.27349977850490637\n",
      "0.05\n",
      "-0.28679765752831293\n",
      "0.05\n",
      "-0.300359827556405\n",
      "0.05\n",
      "-0.3142007508991341\n",
      "0.05\n",
      "-0.3283344058921615\n",
      "0.05\n",
      "-0.3427742702612763\n",
      "0.05\n",
      "-0.3575333001529082\n",
      "0.05\n",
      "-0.3726239046415933\n",
      "0.05\n",
      "-0.388057915505895\n",
      "0.05\n",
      "-0.40384655204403935\n",
      "0.05\n",
      "-0.42000038067932444\n",
      "0.05\n",
      "-0.4365292690831437\n",
      "0.05\n",
      "-0.45344233452011723\n",
      "0.05\n",
      "-0.47074788609530915\n",
      "0.05\n",
      "-0.4884533605576965\n",
      "0.05\n",
      "-0.5065652512868896\n",
      "0.05\n",
      "-0.5250890300614625\n",
      "0.05\n",
      "-0.5440290611770532\n",
      "0.05\n",
      "-0.5633885074505242\n",
      "0.05\n",
      "-0.5831692276128136\n",
      "0.05\n",
      "-0.6033716645575634\n",
      "0.05\n",
      "-0.6239947238750252\n",
      "0.05\n",
      "-0.6450356420610205\n",
      "0.05\n",
      "-0.6664898437487043\n",
      "0.05\n",
      "-0.6883507872664215\n",
      "0.05\n",
      "-0.7106097977778921\n",
      "0.05\n",
      "-0.733255887211156\n",
      "0.05\n",
      "-0.7562755601299731\n",
      "0.05\n",
      "-0.7796526046455395\n",
      "0.05\n",
      "-0.8033678674072409\n",
      "0.05\n",
      "-0.8273990116485275\n",
      "0.05\n",
      "-0.8517202571976518\n",
      "0.05\n",
      "-0.8763021012927066\n",
      "0.05\n",
      "-0.9011110189659498\n",
      "0.05\n",
      "-0.9261091416834871\n",
      "0.05\n",
      "-0.9512539128427981\n",
      "0.05\n",
      "-0.9764977186420135\n",
      "0.05\n",
      "-1.0017874927409889\n",
      "0.05\n",
      "-1.0270642930347853\n",
      "0.05\n",
      "-1.052262848754782\n",
      "0.05\n",
      "-1.0773110760009985\n",
      "0.05\n",
      "-1.1021295596908927\n",
      "0.05\n",
      "-1.126630999784557\n",
      "0.05\n",
      "-1.1507196195134057\n",
      "0.05\n",
      "-1.1742905331987386\n",
      "0.05\n",
      "-1.1972290710974656\n",
      "0.05\n",
      "-1.2194100585543304\n",
      "0.05\n",
      "-1.240697046572623\n",
      "0.05\n",
      "-1.2609414907381054\n",
      "0.05\n",
      "-1.2799818752430727\n",
      "0.05\n",
      "-1.2976427785585496\n",
      "0.05\n",
      "-1.3137338770919025\n",
      "0.05\n",
      "-1.3280488829439605\n",
      "0.05\n",
      "-1.3403644116433386\n",
      "0.05\n",
      "-1.3504387754853\n",
      "0.05\n",
      "-1.3580106978373194\n",
      "0.05\n",
      "-1.3627979434927209\n",
      "0.05\n",
      "-1.3644958598563877\n",
      "0.05\n",
      "-1.3627758234316598\n",
      "0.05\n",
      "-1.3572835857441057\n",
      "0.05\n",
      "-1.3476375124848192\n",
      "0.05\n",
      "-1.3334267092820957\n",
      "0.05\n",
      "-1.3142090271146067\n",
      "0.05\n",
      "-1.289508939960217\n",
      "0.05\n",
      "-1.2588152868310614\n",
      "0.05\n",
      "-1.2215788698759822\n",
      "0.05\n",
      "-1.1772098997344225\n",
      "0.05\n",
      "-1.1250752787998037\n",
      "0.05\n",
      "-1.0644957124935883\n",
      "0.05\n",
      "-0.9947426380619042\n",
      "0.05\n",
      "-0.9150349597828715\n",
      "0.05\n",
      "-0.8245355788126804\n",
      "0.05\n",
      "-0.7223477051999226\n",
      "0.05\n",
      "-0.6075109388584514\n",
      "0.05\n",
      "-0.4789971055068237\n",
      "0.05\n",
      "-0.33570583275468985\n",
      "0.05\n",
      "-0.17645985064071693\n",
      "0.05\n"
     ]
    },
    {
     "data": {
      "text/plain": [
       "-69.20321008390512"
      ]
     },
     "execution_count": 43,
     "metadata": {},
     "output_type": "execute_result"
    }
   ],
   "source": [
    "RK4StepI(dydx, 0, 5, 0, 100)"
   ]
  },
  {
   "cell_type": "code",
   "execution_count": 21,
   "metadata": {},
   "outputs": [
    {
     "data": {
      "text/plain": [
       "True"
      ]
     },
     "execution_count": 21,
     "metadata": {},
     "output_type": "execute_result"
    }
   ],
   "source": [
    "np.abs(SimpsonsIntegrate(f8,0,5,100)-RK4StepI(dydx, 0, 5, 0, 100)) < 10**(-6)"
   ]
  }
 ],
 "metadata": {
  "kernelspec": {
   "display_name": "Python 3",
   "language": "python",
   "name": "python3"
  },
  "language_info": {
   "codemirror_mode": {
    "name": "ipython",
    "version": 3
   },
   "file_extension": ".py",
   "mimetype": "text/x-python",
   "name": "python",
   "nbconvert_exporter": "python",
   "pygments_lexer": "ipython3",
   "version": "3.7.6"
  }
 },
 "nbformat": 4,
 "nbformat_minor": 2
}
